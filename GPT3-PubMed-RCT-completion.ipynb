{
 "cells": [
  {
   "cell_type": "code",
   "execution_count": null,
   "id": "canadian-recycling",
   "metadata": {},
   "outputs": [],
   "source": [
    "import os\n",
    "import openai\n",
    "import csv\n",
    "openai.api_key = \"\" #Enter your API key here\n",
    "openai.Engine.list()"
   ]
  },
  {
   "cell_type": "code",
   "execution_count": null,
   "id": "incorporated-header",
   "metadata": {},
   "outputs": [],
   "source": [
    "model_name = \"curie\"\n",
    "openai.Engine.retrieve(model_name)"
   ]
  },
  {
   "cell_type": "code",
   "execution_count": null,
   "id": "advance-trauma",
   "metadata": {},
   "outputs": [],
   "source": [
    "#---------- This function gets the dataset and returns a prompt\n",
    "\n",
    "def data_to_prompt(task_description, train_file_address, test_text):\n",
    "    prompt = \"\"\n",
    "    prompt += task_description + '\\n'\n",
    "    \n",
    "    with open(train_file_address) as train_file:\n",
    "        train_data = csv.reader(train_file, delimiter='\\t')\n",
    "    \n",
    "        for row in train_data:\n",
    "            sample_text = row[0]\n",
    "            sample_label = row[1].lower()\n",
    "        \n",
    "            prompt += \"Text:\" + sample_text + '\\n'\n",
    "            prompt += \"Label:\" + sample_label + '\\n'\n",
    "            prompt += \"###\\n\"\n",
    "        \n",
    "        prompt += \"Text:\" + test_text + '\\n'\n",
    "        prompt += \"Label:\"\n",
    "    \n",
    "    return prompt"
   ]
  },
  {
   "cell_type": "code",
   "execution_count": null,
   "id": "remarkable-taxation",
   "metadata": {},
   "outputs": [],
   "source": [
    "train_address = 'Data\\\\PubMed-RCT-train-100.tsv'\n",
    "test_address = 'Data\\\\PubMed-RCT-test-50.tsv'\n",
    "\n",
    "max_label_token = 10\n",
    "\n",
    "test_scores = []\n",
    "predictions = []\n",
    "\n",
    "task_description = \"Specify to which part of a paper the sentence belongs\"\n",
    "\n",
    "total_samples = 0\n",
    "correct_predictions = 0\n",
    "\n",
    "with open(test_address) as test_file:\n",
    "    test_data = csv.reader(test_file, delimiter='\\t')\n",
    "    \n",
    "    for row in test_data:\n",
    "        sample_text = row[0]\n",
    "        sample_label = row[1].lower()\n",
    "        \n",
    "        prompt = data_to_prompt(task_description, train_address, sample_text)\n",
    "        response = openai.Completion.create(engine=model_name, prompt=prompt, temperature=0, max_tokens=max_label_token, top_p=1, frequency_penalty=0, presence_penalty=0, stop=[\"\\n\"])\n",
    "        print(prompt)\n",
    "        print(\"*************\")\n",
    "        print(response)\n",
    "        choices = response[\"choices\"]\n",
    "        predicted_label = choices[0]\n",
    "        predicted_label = predicted_label[\"text\"]\n",
    "        if(len(predicted_label) > 0):\n",
    "            if(predicted_label[0] == ' '):\n",
    "                predicted_label = predicted_label[1:]\n",
    "        print('Test text:', sample_text, ' || Test label:', sample_label, ' || Predicted label:', predicted_label)\n",
    "        print(\"-----------------------------------------------------------------------------------\")\n",
    "        \n",
    "        \n",
    "        total_samples += 1\n",
    "        if(sample_label.lower() == predicted_label.lower()):\n",
    "            correct_predictions += 1\n",
    "\n",
    "accuracy = correct_predictions / total_samples        \n",
    "print('Total samples:', total_samples)\n",
    "print('Correct predictions:', correct_predictions)\n",
    "print('Accuracy:', accuracy)"
   ]
  },
  {
   "cell_type": "code",
   "execution_count": null,
   "id": "enclosed-psychiatry",
   "metadata": {},
   "outputs": [],
   "source": []
  }
 ],
 "metadata": {
  "kernelspec": {
   "display_name": "Python 3",
   "language": "python",
   "name": "python3"
  },
  "language_info": {
   "codemirror_mode": {
    "name": "ipython",
    "version": 3
   },
   "file_extension": ".py",
   "mimetype": "text/x-python",
   "name": "python",
   "nbconvert_exporter": "python",
   "pygments_lexer": "ipython3",
   "version": "3.6.7"
  }
 },
 "nbformat": 4,
 "nbformat_minor": 5
}
