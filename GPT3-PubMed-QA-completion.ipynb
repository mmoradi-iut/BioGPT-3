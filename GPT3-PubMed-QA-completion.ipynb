{
 "cells": [
  {
   "cell_type": "code",
   "execution_count": null,
   "id": "fleet-timing",
   "metadata": {},
   "outputs": [],
   "source": [
    "import os\n",
    "import openai\n",
    "import csv\n",
    "openai.api_key = \"\" #Enter your API key here\n",
    "openai.Engine.list()"
   ]
  },
  {
   "cell_type": "code",
   "execution_count": null,
   "id": "composed-distribution",
   "metadata": {},
   "outputs": [],
   "source": [
    "model_name = \"curie\"\n",
    "openai.Engine.retrieve(model_name)"
   ]
  },
  {
   "cell_type": "code",
   "execution_count": null,
   "id": "loose-issue",
   "metadata": {},
   "outputs": [],
   "source": [
    "#---------- This function gets the dataset and returns a prompt\n",
    "\n",
    "def data_to_prompt(task_description, train_file_address, test_question):\n",
    "    prompt = \"\"\n",
    "    prompt += task_description + '\\n\\n'\n",
    "    \n",
    "    with open(train_file_address) as train_file:\n",
    "        train_data = csv.reader(train_file, delimiter=',')\n",
    "    \n",
    "        for row in train_data:\n",
    "            sample_question = row[1]\n",
    "            sample_answer = row[3]\n",
    "        \n",
    "            prompt += \"Question:\" + sample_question + '\\n'\n",
    "            prompt += \"Answer:\" + sample_answer + '\\n\\n'\n",
    "        \n",
    "        prompt += \"Question:\" + test_question + '\\n'\n",
    "        prompt += \"Answer:\"\n",
    "    \n",
    "    return prompt"
   ]
  },
  {
   "cell_type": "code",
   "execution_count": null,
   "id": "serial-poetry",
   "metadata": {},
   "outputs": [],
   "source": [
    "train_address = 'Data\\\\CSV\\\\PubMed-QA-train-50.csv'\n",
    "test_address = 'Data\\\\CSV\\\\PubMed-QA-test-100.csv'\n",
    "\n",
    "max_token = 1\n",
    "\n",
    "test_scores = []\n",
    "predictions = []\n",
    "\n",
    "task_description = \"It is a question answering task. The answer to every question is yes, maybe, or no.\"\n",
    "\n",
    "total_samples = 0\n",
    "correct_predictions = 0\n",
    "\n",
    "with open(test_address) as test_file:\n",
    "    test_data = csv.reader(test_file, delimiter=',')\n",
    "    \n",
    "    for row in test_data:\n",
    "        sample_question = row[1]\n",
    "        sample_answer = row[3]\n",
    "        \n",
    "        prompt = data_to_prompt(task_description, train_address, sample_question)\n",
    "        response = openai.Completion.create(engine=model_name, prompt=prompt, temperature=0, max_tokens=max_token, top_p=1, frequency_penalty=0, presence_penalty=0, stop=[\"\\n\"])\n",
    "        print(prompt)\n",
    "        print(\"*************\")\n",
    "        print(response)\n",
    "        choices = response[\"choices\"]\n",
    "        predicted_label = choices[0]\n",
    "        predicted_label = predicted_label[\"text\"]\n",
    "        if(len(predicted_label) > 0):\n",
    "            if(predicted_label[0] == ' '):\n",
    "                predicted_label = predicted_label[1:]\n",
    "        print('Test question:', sample_question, ' || Test answer:', sample_answer, ' || Predicted label:', predicted_label)\n",
    "        print(\"-----------------------------------------------------------------------------------\")\n",
    "        \n",
    "        \n",
    "        total_samples += 1\n",
    "        if(sample_answer.lower() == predicted_label.lower()):\n",
    "            correct_predictions += 1\n",
    "\n",
    "accuracy = correct_predictions / total_samples        \n",
    "print('Total samples:', total_samples)\n",
    "print('Correct predictions:', correct_predictions)\n",
    "print('Accuracy:', accuracy)"
   ]
  },
  {
   "cell_type": "code",
   "execution_count": null,
   "id": "loving-yukon",
   "metadata": {},
   "outputs": [],
   "source": []
  }
 ],
 "metadata": {
  "kernelspec": {
   "display_name": "Python 3",
   "language": "python",
   "name": "python3"
  },
  "language_info": {
   "codemirror_mode": {
    "name": "ipython",
    "version": 3
   },
   "file_extension": ".py",
   "mimetype": "text/x-python",
   "name": "python",
   "nbconvert_exporter": "python",
   "pygments_lexer": "ipython3",
   "version": "3.6.7"
  }
 },
 "nbformat": 4,
 "nbformat_minor": 5
}
